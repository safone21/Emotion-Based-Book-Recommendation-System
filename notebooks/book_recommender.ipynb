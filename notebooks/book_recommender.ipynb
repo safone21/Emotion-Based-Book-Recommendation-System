{
 "cells": [
  {
   "cell_type": "code",
   "execution_count": 1,
   "id": "caa91cff-3415-41c0-ad9b-fb3fb4deadeb",
   "metadata": {},
   "outputs": [
    {
     "name": "stdout",
     "output_type": "stream",
     "text": [
      "Requirement already satisfied: pandas in c:\\users\\msi\\appdata\\local\\programs\\python\\python313\\lib\\site-packages (2.2.3)\n",
      "Requirement already satisfied: joblib in c:\\users\\msi\\appdata\\local\\programs\\python\\python313\\lib\\site-packages (1.4.2)\n",
      "Requirement already satisfied: numpy>=1.26.0 in c:\\users\\msi\\appdata\\local\\programs\\python\\python313\\lib\\site-packages (from pandas) (2.2.4)\n",
      "Requirement already satisfied: python-dateutil>=2.8.2 in c:\\users\\msi\\appdata\\local\\programs\\python\\python313\\lib\\site-packages (from pandas) (2.9.0.post0)\n",
      "Requirement already satisfied: pytz>=2020.1 in c:\\users\\msi\\appdata\\local\\programs\\python\\python313\\lib\\site-packages (from pandas) (2025.2)\n",
      "Requirement already satisfied: tzdata>=2022.7 in c:\\users\\msi\\appdata\\local\\programs\\python\\python313\\lib\\site-packages (from pandas) (2025.2)\n",
      "Requirement already satisfied: six>=1.5 in c:\\users\\msi\\appdata\\local\\programs\\python\\python313\\lib\\site-packages (from python-dateutil>=2.8.2->pandas) (1.17.0)\n"
     ]
    },
    {
     "name": "stderr",
     "output_type": "stream",
     "text": [
      "\n",
      "[notice] A new release of pip is available: 25.0 -> 25.0.1\n",
      "[notice] To update, run: python.exe -m pip install --upgrade pip\n"
     ]
    }
   ],
   "source": [
    "!pip install pandas joblib\n"
   ]
  },
  {
   "cell_type": "code",
   "execution_count": 2,
   "id": "ca534be3-e939-450c-b7c6-eefdd00eeca8",
   "metadata": {},
   "outputs": [],
   "source": [
    "import sys\n",
    "import os\n",
    "\n",
    "sys.path.append(os.path.abspath(\"../\"))  \n"
   ]
  },
  {
   "cell_type": "code",
   "execution_count": 3,
   "id": "4ca96148-101e-41c9-b150-01604a493150",
   "metadata": {},
   "outputs": [
    {
     "name": "stderr",
     "output_type": "stream",
     "text": [
      "[nltk_data] Downloading package stopwords to\n",
      "[nltk_data]     C:\\Users\\MSI\\AppData\\Roaming\\nltk_data...\n",
      "[nltk_data]   Package stopwords is already up-to-date!\n"
     ]
    }
   ],
   "source": [
    "import pandas as pd\n",
    "import joblib\n",
    "from src.preprocessing import clean_text\n",
    "from src.model import EmotionClassifier"
   ]
  },
  {
   "cell_type": "code",
   "execution_count": 4,
   "id": "dfabbca5-2d73-4b3d-b57c-97e96fba1df2",
   "metadata": {},
   "outputs": [],
   "source": [
    "exclude_keywords = [\n",
    "    'technology & engineering', 'women\\'s health', 'military science',\n",
    "    'health & fitness', 'diet & nutrition', 'cooking', 'reference',\n",
    "    'cookbook', 'recipe', 'cooking', 'manual', 'how to', 'business',\n",
    "    'marketing', 'guide', 'biography', 'memoir', 'family & relationships',\n",
    "    'life stages', 'teenagers', 'religion', 'general', 'christian life'\n",
    "]\n",
    "def is_relevant(category):\n",
    "    category = str(category).lower()  \n",
    "    return not any(keyword in category for keyword in exclude_keywords)"
   ]
  },
  {
   "cell_type": "code",
   "execution_count": 5,
   "id": "9a6e6d34-75b6-45aa-8bcf-402d296204ed",
   "metadata": {},
   "outputs": [],
   "source": [
    "books = pd.read_csv('../data/books.csv')\n",
    "books = books[['Title', 'Authors', 'Description','Category']].dropna()\n",
    "books = books[books['Description'].str.strip() != \"\"]\n",
    "books = books[books['Category'].apply(is_relevant)]"
   ]
  },
  {
   "cell_type": "code",
   "execution_count": 6,
   "id": "9a4e03c8-94db-4e48-b6ff-d0f557964958",
   "metadata": {},
   "outputs": [],
   "source": [
    "model = joblib.load('../outputs/emotion_model.pkl')"
   ]
  },
  {
   "cell_type": "code",
   "execution_count": 7,
   "id": "a1108e96-93a6-48c1-8317-f0965b487dc3",
   "metadata": {},
   "outputs": [],
   "source": [
    "emotion_dict = {\n",
    "    0: 'Sadness',\n",
    "    1: 'Joy',\n",
    "    2: 'Love',\n",
    "    3: 'Anger',\n",
    "    4: 'Fear',\n",
    "    5: 'Surprise'\n",
    "}\n"
   ]
  },
  {
   "cell_type": "code",
   "execution_count": 8,
   "id": "f0649435-4072-4fca-8b57-67cc677a4b01",
   "metadata": {},
   "outputs": [],
   "source": [
    "def detect_emotion(text):\n",
    "    cleaned = clean_text(text)\n",
    "    pred = model.predict([cleaned])[0]\n",
    "    return emotion_dict[int(pred)]"
   ]
  },
  {
   "cell_type": "code",
   "execution_count": 9,
   "id": "8ccb5694-a79e-4630-8971-0e4f97168bbf",
   "metadata": {},
   "outputs": [],
   "source": [
    "def recommend_books(emotion_label, books_df, top_n=5):\n",
    "    recommendation_map = {\n",
    "        'Sadness': 'Joy',\n",
    "        'Joy': 'Joy',\n",
    "        'Love': 'Love',\n",
    "        'Anger': 'Calm',\n",
    "        'Fear': 'Inspiration',\n",
    "        'Surprise': 'Adventure'\n",
    "    }\n",
    "\n",
    "# Get the target vibe for the emotion based on the recommendation map.\n",
    "# If no mapping is found for the given emotion, it will return the emotion itself as the default.\n",
    "    target_vibe = recommendation_map.get(emotion_label, emotion_label)\n",
    "    filtered = books_df[books_df['Description'].str.contains(target_vibe, case=False, na=False)]\n",
    "\n",
    "    return filtered.sample(top_n) if not filtered.empty else books_df.sample(top_n)"
   ]
  },
  {
   "cell_type": "code",
   "execution_count": 14,
   "id": "609b6c79-c385-4a4d-8785-568f5a0d750e",
   "metadata": {},
   "outputs": [
    {
     "name": "stdout",
     "output_type": "stream",
     "text": [
      "Detected Emotion: Joy\n",
      "\n",
      " Book Recommendations:\n",
      "                                                   Title  \\\n",
      "45723                                 The Joy of Origami   \n",
      "86194                                            Tainted   \n",
      "72384   We Are Their Heaven: Why the Dead Never Leave Us   \n",
      "34071     Fluffy's Thanksgiving (level 3) (Hello Reader)   \n",
      "90005  Excursions in Number Theory (Dover Books on Ma...   \n",
      "\n",
      "                                        Authors  \n",
      "45723                  By Van Sicklen, Margaret  \n",
      "86194                         By Morgan, Brooke  \n",
      "72384                        By DuBois, Allison  \n",
      "34071  By Smith, Mavis (ILT) and McMullan, Kate  \n",
      "90005                     By Ogilvy, C. Stanley  \n"
     ]
    }
   ],
   "source": [
    "user_input = \"I'm in such a great mood today, and I just want to read something light and uplifting\"\n",
    "detected_emotion = detect_emotion(user_input)\n",
    "print(\"Detected Emotion:\", detected_emotion)\n",
    "\n",
    "recommendations = recommend_books(detected_emotion, books)\n",
    "print(\"\\n Book Recommendations:\")\n",
    "print(recommendations[['Title', 'Authors']])"
   ]
  },
  {
   "cell_type": "code",
   "execution_count": null,
   "id": "7eac2493-648c-4a88-a87f-b996a705c791",
   "metadata": {},
   "outputs": [],
   "source": []
  }
 ],
 "metadata": {
  "kernelspec": {
   "display_name": "Python 3 (ipykernel)",
   "language": "python",
   "name": "python3"
  },
  "language_info": {
   "codemirror_mode": {
    "name": "ipython",
    "version": 3
   },
   "file_extension": ".py",
   "mimetype": "text/x-python",
   "name": "python",
   "nbconvert_exporter": "python",
   "pygments_lexer": "ipython3",
   "version": "3.13.2"
  }
 },
 "nbformat": 4,
 "nbformat_minor": 5
}
